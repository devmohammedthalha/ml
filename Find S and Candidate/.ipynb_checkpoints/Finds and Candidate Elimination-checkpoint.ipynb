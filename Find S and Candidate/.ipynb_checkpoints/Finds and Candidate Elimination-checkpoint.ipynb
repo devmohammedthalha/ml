{
 "cells": [
  {
   "cell_type": "code",
   "execution_count": 5,
   "metadata": {},
   "outputs": [
    {
     "name": "stdout",
     "output_type": "stream",
     "text": [
      "Hypothesis: ['Sunny', 'Warm', '?', 'Strong', '?', '?']\n"
     ]
    }
   ],
   "source": [
    "\n",
    "\n",
    "import pandas as pd\n",
    "\n",
    "def find_s(training_data):\n",
    "\n",
    "  hypothesis = ['0'] * (len(training_data.columns) - 1) # Initialize hypothesis with most specific\n",
    "\n",
    "  for index, row in training_data.iterrows():\n",
    "      if row.iloc[-1] == 'Yes':  # Consider only positive examples\n",
    "          for i in range(len(hypothesis)):\n",
    "              if hypothesis[i] == '0':\n",
    "                  hypothesis[i] = row.iloc[i]\n",
    "              elif hypothesis[i] != row.iloc[i]:\n",
    "                  hypothesis[i] = '?'\n",
    "  return hypothesis\n",
    "\n",
    "\n",
    "data = pd.read_csv('weather.csv')\n",
    "\n",
    "df = pd.DataFrame(data)\n",
    "\n",
    "# Run the Find-S algorithm\n",
    "learned_hypothesis = find_s(df)\n",
    "print(\"Hypothesis:\", learned_hypothesis)\n"
   ]
  },
  {
   "cell_type": "code",
   "execution_count": 6,
   "metadata": {},
   "outputs": [
    {
     "name": "stdout",
     "output_type": "stream",
     "text": [
      "Final Specific Boundary: ['Sunny' 'Warm' '?' 'Strong' '?' '?']\n",
      "Final General Boundary: [['Sunny', '?', '?', '?', '?', '?'], ['?', 'Warm', '?', '?', '?', '?'], ['?', '?', '?', 'Strong', '?', '?']]\n"
     ]
    }
   ],
   "source": [
    "import numpy as np\n",
    "import pandas as pd\n",
    "\n",
    "def candidate_elimination(training_data):\n",
    "    \"\"\"\n",
    "    Implements the Candidate Elimination algorithm to learn the version space.\n",
    "    :param training_data: List of training examples, where the last column is the target attribute.\n",
    "    :return: The final specific and general boundary.\n",
    "    \"\"\"\n",
    "    features = np.array(training_data.iloc[:, :-1])\n",
    "    labels = np.array(training_data.iloc[:, -1])\n",
    "   \n",
    "    S = features[0].copy()\n",
    "    G = [['?' for _ in range(len(S))] for _ in range(len(S))]\n",
    "   \n",
    "    for i, label in enumerate(labels):\n",
    "        if label.lower() == 'yes':\n",
    "            for j in range(len(S)):\n",
    "                if S[j] != features[i][j]:\n",
    "                    S[j] = '?'\n",
    "            G = [g for g in G if all(g[k] == '?' or g[k] == S[k] for k in range(len(S)))]\n",
    "\n",
    "        else:\n",
    "            new_G = []\n",
    "            for j in range(len(S)):\n",
    "                if S[j] != '?':\n",
    "                    g = ['?' if k != j else S[j] for k in range(len(S))]\n",
    "                    new_G.append(g)\n",
    "            G.extend(new_G)\n",
    "            G = [g for g in G if any(g[k] != '?' for k in range(len(S)))]\n",
    "   \n",
    "    return S, G\n",
    "\n",
    "\n",
    "data = pd.read_csv('weather.csv')\n",
    "\n",
    "S, G = candidate_elimination(data)\n",
    "print(\"Final Specific Boundary:\", S)\n",
    "print(\"Final General Boundary:\", G)\n"
   ]
  },
  {
   "cell_type": "code",
   "execution_count": null,
   "metadata": {},
   "outputs": [],
   "source": []
  }
 ],
 "metadata": {
  "kernelspec": {
   "display_name": "Python 3",
   "language": "python",
   "name": "python3"
  },
  "language_info": {
   "codemirror_mode": {
    "name": "ipython",
    "version": 3
   },
   "file_extension": ".py",
   "mimetype": "text/x-python",
   "name": "python",
   "nbconvert_exporter": "python",
   "pygments_lexer": "ipython3",
   "version": "3.7.3"
  }
 },
 "nbformat": 4,
 "nbformat_minor": 2
}
