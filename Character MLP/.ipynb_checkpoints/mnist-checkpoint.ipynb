{
  "cells": [
    {
      "cell_type": "code",
      "execution_count": 2,
      "metadata": {
        "colab": {
          "base_uri": "https://localhost:8080/"
        },
        "id": "_XcQ2-gFg60b",
        "outputId": "a2f550db-cd5b-414b-c861-4916bddc9e62"
      },
      "outputs": [
        {
          "name": "stdout",
          "output_type": "stream",
          "text": [
            "Epoch 1/5\n",
            "1500/1500 [==============================] - 5s 3ms/step - loss: 0.2622 - accuracy: 0.9240 - val_loss: 0.1355 - val_accuracy: 0.9592\n",
            "Epoch 2/5\n",
            "1500/1500 [==============================] - 5s 3ms/step - loss: 0.1129 - accuracy: 0.9651 - val_loss: 0.1145 - val_accuracy: 0.9657\n",
            "Epoch 3/5\n",
            "1500/1500 [==============================] - 4s 3ms/step - loss: 0.0772 - accuracy: 0.9763 - val_loss: 0.0963 - val_accuracy: 0.9709\n",
            "Epoch 4/5\n",
            "1500/1500 [==============================] - 4s 3ms/step - loss: 0.0578 - accuracy: 0.9814 - val_loss: 0.0990 - val_accuracy: 0.9697\n",
            "Epoch 5/5\n",
            "1500/1500 [==============================] - 4s 3ms/step - loss: 0.0442 - accuracy: 0.9854 - val_loss: 0.0888 - val_accuracy: 0.9740\n",
            "313/313 [==============================] - 1s 1ms/step - loss: 0.0797 - accuracy: 0.9758\n",
            "Test Accuracy: 97.58%\n"
          ]
        }
      ],
      "source": [
        "import tensorflow as tf\n",
        "from tensorflow.keras.models import Sequential\n",
        "from tensorflow.keras.layers import Dense, Flatten\n",
        "from tensorflow.keras.datasets import mnist\n",
        "from tensorflow.keras.utils import to_categorical\n",
        "\n",
        "# Step 1: Load and preprocess the MNIST dataset\n",
        "(x_train, y_train), (x_test, y_test) = mnist.load_data()\n",
        "\n",
        "# Normalize the images to the range [0, 1]\n",
        "x_train = x_train.astype('float32') / 255.0\n",
        "x_test = x_test.astype('float32') / 255.0\n",
        "\n",
        "# Flatten the images (28x28 pixels to 784 input features)\n",
        "x_train = x_train.reshape(-1, 28 * 28)\n",
        "x_test = x_test.reshape(-1, 28 * 28)\n",
        "\n",
        "# One-hot encode the labels\n",
        "y_train = to_categorical(y_train, 10)\n",
        "y_test = to_categorical(y_test, 10)\n",
        "\n",
        "# Step 2: Build the MLP model\n",
        "model = Sequential([\n",
        "    Dense(128, activation='relu', input_shape=(28 * 28,)),  # Hidden layer with 128 neurons\n",
        "    Dense(64, activation='relu'),  # Another hidden layer\n",
        "    Dense(10, activation='softmax')  # Output layer with 10 neurons (digits 0-9)\n",
        "])\n",
        "\n",
        "# Step 3: Compile the model\n",
        "model.compile(optimizer='adam', loss='categorical_crossentropy', metrics=['accuracy'])\n",
        "\n",
        "# Step 4: Train the model\n",
        "model.fit(x_train, y_train, epochs=5, batch_size=32, validation_split=0.2)\n",
        "\n",
        "# Step 5: Evaluate the model\n",
        "test_loss, test_accuracy = model.evaluate(x_test, y_test)\n",
        "print(f\"Test Accuracy: {test_accuracy * 100:.2f}%\")\n"
      ]
    },
    {
      "cell_type": "code",
      "execution_count": 4,
      "metadata": {
        "colab": {
          "base_uri": "https://localhost:8080/",
          "height": 469
        },
        "id": "SJ6t-zHNhV6Y",
        "outputId": "0070d488-17b6-40e2-fbf8-a1b40ec9bb74"
      },
      "outputs": [
        {
          "name": "stdout",
          "output_type": "stream",
          "text": [
            "1/1 [==============================] - 0s 32ms/step\n"
          ]
        },
        {
          "data": {
            "image/png": "[encoded data removed]",
            "text/plain": [
              "<Figure size 640x480 with 1 Axes>"
            ]
          },
          "metadata": {},
          "output_type": "display_data"
        }
      ],
      "source": [
        "import tensorflow as tf\n",
        "import numpy as np\n",
        "import matplotlib.pyplot as plt\n",
        "from tensorflow.keras.datasets import mnist\n",
        "from tensorflow.keras.models import load_model\n",
        "from tensorflow.keras.preprocessing import image\n",
        "\n",
        "# Function to preprocess the image and make a prediction\n",
        "def preprocess_and_predict(img_path):\n",
        "    # Load the image\n",
        "    img = image.load_img(img_path, color_mode=\"grayscale\", target_size=(28, 28))\n",
        "\n",
        "    # Convert the image to a numpy array\n",
        "    img_array = image.img_to_array(img)\n",
        "\n",
        "    # Normalize the image\n",
        "    img_array = img_array.astype('float32') / 255.0\n",
        "\n",
        "    # Reshape the image to match the input shape (28 * 28 = 784)\n",
        "    img_array = img_array.reshape(1, 28 * 28)\n",
        "\n",
        "    # Make a prediction\n",
        "    prediction = model.predict(img_array)\n",
        "\n",
        "    # Return the predicted class (digit)\n",
        "    predicted_class = np.argmax(prediction)\n",
        "    return predicted_class\n",
        "\n",
        "# Example usage\n",
        "img_path = 'image2.png'  # Replace with the path to your MNIST image\n",
        "predicted_digit = preprocess_and_predict(img_path)\n",
        "\n",
        "# Show the image and the predicted digit\n",
        "img = image.load_img(img_path, color_mode=\"grayscale\", target_size=(28, 28))\n",
        "plt.imshow(img)\n",
        "plt.title(f'Predicted Digit: {predicted_digit}')\n",
        "plt.show()\n"
      ]
    },
    {
      "cell_type": "code",
      "execution_count": null,
      "metadata": {
        "id": "6RmUquckiVGT"
      },
      "outputs": [],
      "source": []
    }
  ],
  "metadata": {
    "colab": {
      "provenance": []
    },
    "kernelspec": {
      "display_name": "Python 3.8.10 ('myenv': venv)",
      "language": "python",
      "name": "python3"
    },
    "language_info": {
      "codemirror_mode": {
        "name": "ipython",
        "version": 3
      },
      "file_extension": ".py",
      "mimetype": "text/x-python",
      "name": "python",
      "nbconvert_exporter": "python",
      "pygments_lexer": "ipython3",
      "version": "3.8.10"
    },
    "vscode": {
      "interpreter": {
        "hash": "8966365e1e1c555ff681e829c08a5e6730b1f6b1b4c2abfa0ea1145e98ff3d77"
      }
    }
  },
  "nbformat": 4,
  "nbformat_minor": 0
}
