{
 "cells": [
  {
   "cell_type": "code",
   "execution_count": 1,
   "id": "4e7660ff-91b0-4d93-861d-dd39c491292d",
   "metadata": {},
   "outputs": [
    {
     "name": "stdout",
     "output_type": "stream",
     "text": [
      "\n",
      "Most probable state sequence: ['Sunny', 'Rainy', 'Rainy']\n",
      "Probability of the sequence: 0.013440\n"
     ]
    }
   ],
   "source": [
    "import numpy as np\n",
    "\n",
    "# Define states and observations\n",
    "states = ['Rainy', 'Sunny']\n",
    "observations = ['Walk', 'Shop', 'Clean']\n",
    "\n",
    "# Initial probabilities\n",
    "start_probability = {'Rainy': 0.6, 'Sunny': 0.4}\n",
    "\n",
    "# Transition probabilities\n",
    "transition_probability = {\n",
    "    'Rainy' : {'Rainy': 0.7, 'Sunny': 0.3},\n",
    "    'Sunny' : {'Rainy': 0.4, 'Sunny': 0.6},\n",
    "}\n",
    "\n",
    "# Emission probabilities\n",
    "emission_probability = {\n",
    "    'Rainy' : {'Walk': 0.1, 'Shop': 0.4, 'Clean': 0.5},\n",
    "    'Sunny' : {'Walk': 0.6, 'Shop': 0.3, 'Clean': 0.1},\n",
    "}\n",
    "\n",
    "# Observation sequence\n",
    "obs_sequence = ['Walk', 'Shop', 'Clean']\n",
    "\n",
    "# Viterbi Algorithm Implementation\n",
    "def viterbi(obs, states, start_p, trans_p, emit_p):\n",
    "    V = [{}]\n",
    "    path = {}\n",
    "\n",
    "    # Initialize base cases (t == 0)\n",
    "    for s in states:\n",
    "        V[0][s] = start_p[s] * emit_p[s][obs[0]]\n",
    "        path[s] = [s]\n",
    "\n",
    "    # Run Viterbi for t > 0\n",
    "    for t in range(1, len(obs)):\n",
    "        V.append({})\n",
    "        new_path = {}\n",
    "\n",
    "        for y in states:\n",
    "            (prob, state) = max((V[t-1][y0] * trans_p[y0][y] * emit_p[y][obs[t]], y0) for y0 in states)\n",
    "            V[t][y] = prob\n",
    "            new_path[y] = path[state] + [y]\n",
    "\n",
    "        path = new_path\n",
    "\n",
    "    # Find final most probable state\n",
    "    (prob, state) = max((V[len(obs) - 1][y], y) for y in states)\n",
    "    return (prob, path[state])\n",
    "\n",
    "# Run Viterbi\n",
    "prob, state_sequence = viterbi(obs_sequence, states, start_probability, transition_probability, emission_probability)\n",
    "\n",
    "print(f\"\\nMost probable state sequence: {state_sequence}\")\n",
    "print(f\"Probability of the sequence: {prob:.6f}\")"
   ]
  },
  {
   "cell_type": "code",
   "execution_count": null,
   "id": "8d17ef64-924b-41e0-8c9a-c42d09966968",
   "metadata": {},
   "outputs": [],
   "source": []
  }
 ],
 "metadata": {
  "kernelspec": {
   "display_name": "Python 3",
   "language": "python",
   "name": "python3"
  },
  "language_info": {
   "codemirror_mode": {
    "name": "ipython",
    "version": 3
   },
   "file_extension": ".py",
   "mimetype": "text/x-python",
   "name": "python",
   "nbconvert_exporter": "python",
   "pygments_lexer": "ipython3",
   "version": "3.6.9"
  }
 },
 "nbformat": 4,
 "nbformat_minor": 5
}
